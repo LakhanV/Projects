{
 "cells": [
  {
   "cell_type": "code",
   "execution_count": 128,
   "id": "e1db4c7d",
   "metadata": {},
   "outputs": [
    {
     "name": "stdout",
     "output_type": "stream",
     "text": [
      "DMC Natura XL\t8,46\t100% Baumwolle\t8 mm\n",
      "\n",
      "Drops Baby Merino Mix\t2,61\t100% Merinowolle\t3 mm\n",
      "\n",
      "Drops Safran\t1,10\t100% Baumwolle\t3 mm\n",
      "\n"
     ]
    }
   ],
   "source": [
    "import bs4\n",
    "\n",
    "import pandas\n",
    "from urllib.request import urlopen as ureq\n",
    "import requests\n",
    "from bs4 import BeautifulSoup as soup\n",
    "\n",
    "#finding the last page of the webstie\n",
    "html = requests.get(\"https://www.wollplatz.de/wolle?page=1\")\n",
    "page_no = soup(html.text)\n",
    "lp = page_no.find('ul', class_='paging-ul')\n",
    "pages = [li.text for li in lp.find_all('li')]\n",
    "last_page =int(pages[-2])\n",
    "last_page+=last_page\n",
    "filename=\"products.txt\"\n",
    "f=open(filename,\"w\")\n",
    "headers=\"product_name\\tprice\\tcompositions\\tneedle_size \\n\\n\"\n",
    "f.write(headers)\n",
    "\n",
    "#loop to navigate through all the pages\n",
    "for tag in range(1,last_page):\n",
    "    my_url='https://www.wollplatz.de/wolle?page='+str(tag)\n",
    "    uclient = ureq(my_url)\n",
    "    page_html = uclient.read()\n",
    "    uclient.close()\n",
    "    page_soup = soup(page_html,\"html.parser\")\n",
    "    containers = page_soup.findAll(\"div\",{\"class\":\"productlistholder productlist25\"})\n",
    "    \n",
    "    for container in containers:\n",
    "#filtering the required Products from all the Products\n",
    "        product_name= container.div[\"data-productname\"]\n",
    "   \n",
    "        for name in('Drops Baby Merino Mix','DMC Natura XL' , 'Drops Safran' ,'Hahn Alpacca Speciale' , 'Stylecraft Special double knit'):\n",
    "            if name in product_name:\n",
    "                price_container = container.findAll(\"span\",{\"class\":\"product-price-amount\"})\n",
    "                price=price_container[0].text\n",
    "#using the refrence link to access the materials and needile size information\n",
    "                for link in container.findAll('a'):\n",
    "                        ref_url=link.get('href')\n",
    "            \n",
    "                uclient=ureq(ref_url)\n",
    "                pro_page_html=uclient.read()\n",
    "                uclient.close()\n",
    "                pro_page_soup=soup(pro_page_html,\"html.parser\")\n",
    "                spec_container = pro_page_soup.findAll(\"div\",{\"class\":\"innerspecsholder\"})\n",
    "                needle = spec_container[0].find(lambda t: t.text.strip()=='Nadelstärke')\n",
    "                needle_size = needle.find_next('td')\n",
    "                material = spec_container[0].find(lambda t: t.text.strip()=='Zusammenstellung')\n",
    "                composition = material.find_next('td')\n",
    "#writing the data in the text file\n",
    "                print(product_name+\"\\t\"+price+\"\\t\"+composition.text+\"\\t\"+needle_size.text+\"\\n\")\n",
    "                f.write(product_name+\",\\t\"+price+\",\\t\"+composition.text+\",\\t\"+needle_size.text +\"\\n\\n\")\n",
    "            \n",
    "f.close()\n",
    "\n"
   ]
  },
  {
   "cell_type": "code",
   "execution_count": null,
   "id": "a329744f",
   "metadata": {},
   "outputs": [],
   "source": []
  }
 ],
 "metadata": {
  "kernelspec": {
   "display_name": "Python 3 (ipykernel)",
   "language": "python",
   "name": "python3"
  },
  "language_info": {
   "codemirror_mode": {
    "name": "ipython",
    "version": 3
   },
   "file_extension": ".py",
   "mimetype": "text/x-python",
   "name": "python",
   "nbconvert_exporter": "python",
   "pygments_lexer": "ipython3",
   "version": "3.9.7"
  }
 },
 "nbformat": 4,
 "nbformat_minor": 5
}
